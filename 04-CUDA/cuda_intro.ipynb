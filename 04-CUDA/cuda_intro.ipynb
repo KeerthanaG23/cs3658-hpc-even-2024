{
  "nbformat": 4,
  "nbformat_minor": 0,
  "metadata": {
    "colab": {
      "private_outputs": true,
      "provenance": [],
      "gpuType": "T4"
    },
    "kernelspec": {
      "name": "python3",
      "display_name": "Python 3"
    },
    "language_info": {
      "name": "python"
    },
    "accelerator": "GPU"
  },
  "cells": [
    {
      "cell_type": "markdown",
      "source": [
        "# Introduction to CUDA programming\n"
      ],
      "metadata": {
        "id": "0V8NnvmSKrFq"
      }
    },
    {
      "cell_type": "markdown",
      "source": [
        "### Check the cuda compiler version"
      ],
      "metadata": {
        "id": "ZVw_J3CaK1SI"
      }
    },
    {
      "cell_type": "code",
      "source": [
        "!nvidia-smi"
      ],
      "metadata": {
        "id": "nCyDEZzFQHam"
      },
      "execution_count": null,
      "outputs": []
    },
    {
      "cell_type": "code",
      "execution_count": null,
      "metadata": {
        "id": "F9YjE75qKWqE"
      },
      "outputs": [],
      "source": [
        "!nvcc --version"
      ]
    },
    {
      "cell_type": "markdown",
      "source": [
        "## nvcc for Jupyter notebook"
      ],
      "metadata": {
        "id": "3ziDtLTyLArg"
      }
    },
    {
      "cell_type": "code",
      "source": [
        "!pip install nvcc4jupyter"
      ],
      "metadata": {
        "id": "-G6_2BDjK4r8"
      },
      "execution_count": null,
      "outputs": []
    },
    {
      "cell_type": "code",
      "source": [
        "%load_ext nvcc4jupyter"
      ],
      "metadata": {
        "id": "nYLqxQsBLKKg"
      },
      "execution_count": null,
      "outputs": []
    },
    {
      "cell_type": "code",
      "source": [
        "%%cuda\n",
        "#include <iostream>\n",
        "int main()\n",
        "{\n",
        "    std::cout << \"Hello World\";\n",
        "    return 0;\n",
        "}"
      ],
      "metadata": {
        "id": "G5TygGBiLMaY"
      },
      "execution_count": null,
      "outputs": []
    },
    {
      "cell_type": "code",
      "source": [
        "%%cuda\n",
        "/* Hello World cuda program*/\n",
        "#include <iostream>\n",
        "#include <cuda.h>\n",
        "#include <stdio.h>\n",
        "\n",
        "using namespace std;\n",
        "\n",
        "__global__ void myKernel() {\n",
        "    printf(\"GPU: Hello World.\\n\"); // cout doesnot work in device code\n",
        "}\n",
        "\n",
        "int main(){\n",
        "    std::cout << \"CPU : Hello World\";\n",
        "    myKernel<<<1, 1>>>();\n",
        "    return 0;\n",
        "}"
      ],
      "metadata": {
        "id": "H_uuOAXIL16r"
      },
      "execution_count": null,
      "outputs": []
    },
    {
      "cell_type": "code",
      "source": [
        "%%cuda\n",
        "#include <iostream>\n",
        "#include <cuda.h>\n",
        "#include <stdio.h>\n",
        "\n",
        "using namespace std;\n",
        "\n",
        "__global__ void myKernel() {\n",
        "    printf(\"GPU: Hello World.\\n\"); // Avoid print statements inside the kernel function\n",
        "}\n",
        "\n",
        "int main(){\n",
        "    std::cout << \"CPU : Hello World\";\n",
        "    myKernel<<<1, 1>>>();\n",
        "    cudaThreadSynchronize();\n",
        "    return 0;\n",
        "}"
      ],
      "metadata": {
        "id": "EPPducR3MWXF"
      },
      "execution_count": null,
      "outputs": []
    },
    {
      "cell_type": "code",
      "source": [
        "%%cuda\n",
        "#include <stdio.h>\n",
        "#include <cuda.h>\n",
        "__global__ void myKernel(){\n",
        "    printf(\"Hello World.\\n\");\n",
        "  }\n",
        "int main() {\n",
        "    myKernel<<<1, 32>>>();\n",
        "    cudaThreadSynchronize();\n",
        "    return 0;\n",
        "  }"
      ],
      "metadata": {
        "id": "z3uNAZeDNVIl"
      },
      "execution_count": null,
      "outputs": []
    },
    {
      "cell_type": "code",
      "source": [
        "%%cuda\n",
        "#include <stdio.h>\n",
        "#include <cuda.h>\n",
        "#define N 10\n",
        "__global__ void myKernel() {\n",
        "     printf(\"%d\\n\", threadIdx.x);\n",
        "     }\n",
        "int main() {\n",
        "    myKernel<<<1, N>>>();\n",
        "    cudaThreadSynchronize();\n",
        "    return 0; }"
      ],
      "metadata": {
        "id": "VD2GC8Y5NqGN"
      },
      "execution_count": null,
      "outputs": []
    },
    {
      "cell_type": "markdown",
      "source": [
        "# Typical Cuda program\n",
        "- Load data to CPU memory\n",
        "- Transfer data to GPU memory\n",
        "- Lauch kernels to act on the data\n",
        "- Transfer back data to CPU memory\n",
        "- Proceed with CPU execution"
      ],
      "metadata": {
        "id": "a6TnoEX7OhQc"
      }
    },
    {
      "cell_type": "code",
      "source": [
        "%%cuda\n",
        "#include <stdio.h>\n",
        "#include <cuda.h>\n",
        "#define N 10\n",
        "__global__ void scaleArr(int *a){\n",
        "      a[threadIdx.x] = threadIdx.x * 10;\n",
        "}\n",
        "\n",
        "int main() {\n",
        "    int a_hs[N], *a_dev;\n",
        "    int i;\n",
        "    cudaMalloc(&a_dev, N * sizeof(int));\n",
        "\n",
        "    scaleArr<<<1, N>>>(a_dev);\n",
        "    cudaMemcpy(a_hs, a_dev, N * sizeof(int), cudaMemcpyDeviceToHost);\n",
        "    for (i = 0; i < N; ++i)\n",
        "      printf(\"%d\\n\", a_hs[i]);\n",
        "    return 0;\n",
        "  }"
      ],
      "metadata": {
        "id": "_0V8dRyQOJGU"
      },
      "execution_count": null,
      "outputs": []
    },
    {
      "cell_type": "markdown",
      "source": [
        "## Finding the Unique ID of different threads?\n",
        "\n",
        "https://github.com/tpn/pdfs/blob/master/CUDA%20Thread-Indexing%20Cheatsheet.pdf"
      ],
      "metadata": {
        "id": "8fHbiDqCRijR"
      }
    },
    {
      "cell_type": "code",
      "source": [],
      "metadata": {
        "id": "3KlPEFiYoeVB"
      },
      "execution_count": null,
      "outputs": []
    }
  ]
}